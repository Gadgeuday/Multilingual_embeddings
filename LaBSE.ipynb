{
  "nbformat": 4,
  "nbformat_minor": 0,
  "metadata": {
    "colab": {
      "name": "LaBSE.ipynb",
      "provenance": [],
      "collapsed_sections": []
    },
    "kernelspec": {
      "name": "python3",
      "display_name": "Python 3"
    }
  },
  "cells": [
    {
      "cell_type": "code",
      "metadata": {
        "id": "ryEFQlalSgps"
      },
      "source": [
        "import numpy as np\n",
        "import tensorflow as tf\n",
        "import tensorflow_hub as hub\n"
      ],
      "execution_count": 1,
      "outputs": []
    },
    {
      "cell_type": "code",
      "metadata": {
        "id": "_ySV_hIrSje0"
      },
      "source": [
        "def get_model(model_url, max_seq_length):\n",
        "  labse_layer = hub.KerasLayer(model_url, trainable=True)\n",
        "\n",
        "  # Define input.\n",
        "  input_word_ids = tf.keras.layers.Input(shape=(max_seq_length,), dtype=tf.int32,\n",
        "                                         name=\"input_word_ids\")\n",
        "  input_mask = tf.keras.layers.Input(shape=(max_seq_length,), dtype=tf.int32,\n",
        "                                     name=\"input_mask\")\n",
        "  segment_ids = tf.keras.layers.Input(shape=(max_seq_length,), dtype=tf.int32,\n",
        "                                      name=\"segment_ids\")\n",
        "\n",
        "  # LaBSE layer.\n",
        "  pooled_output,  _ = labse_layer([input_word_ids, input_mask, segment_ids])\n",
        "\n",
        "  # The embedding is l2 normalized.\n",
        "  pooled_output = tf.keras.layers.Lambda(\n",
        "      lambda x: tf.nn.l2_normalize(x, axis=1))(pooled_output)\n",
        "\n",
        "  # Define model.\n",
        "  return tf.keras.Model(\n",
        "        inputs=[input_word_ids, input_mask, segment_ids],\n",
        "        outputs=pooled_output), labse_layer\n",
        "\n",
        "max_seq_length = 64\n",
        "labse_model, labse_layer = get_model(\n",
        "    model_url=\"https://tfhub.dev/google/LaBSE/1\", max_seq_length=max_seq_length)\n"
      ],
      "execution_count": 2,
      "outputs": []
    },
    {
      "cell_type": "code",
      "metadata": {
        "colab": {
          "base_uri": "https://localhost:8080/"
        },
        "id": "5ZebV2qE0cTj",
        "outputId": "3405ed39-cf2d-403e-b759-0ae367b13094"
      },
      "source": [
        "!pip install bert-for-tf2"
      ],
      "execution_count": 7,
      "outputs": [
        {
          "output_type": "stream",
          "name": "stdout",
          "text": [
            "Collecting bert-for-tf2\n",
            "  Downloading bert-for-tf2-0.14.9.tar.gz (41 kB)\n",
            "\u001b[?25l\r\u001b[K     |████████                        | 10 kB 27.3 MB/s eta 0:00:01\r\u001b[K     |████████████████                | 20 kB 30.5 MB/s eta 0:00:01\r\u001b[K     |███████████████████████▉        | 30 kB 35.6 MB/s eta 0:00:01\r\u001b[K     |███████████████████████████████▉| 40 kB 29.7 MB/s eta 0:00:01\r\u001b[K     |████████████████████████████████| 41 kB 126 kB/s \n",
            "\u001b[?25hCollecting py-params>=0.9.6\n",
            "  Downloading py-params-0.10.2.tar.gz (7.4 kB)\n",
            "Collecting params-flow>=0.8.0\n",
            "  Downloading params-flow-0.8.2.tar.gz (22 kB)\n",
            "Requirement already satisfied: numpy in /usr/local/lib/python3.7/dist-packages (from params-flow>=0.8.0->bert-for-tf2) (1.19.5)\n",
            "Requirement already satisfied: tqdm in /usr/local/lib/python3.7/dist-packages (from params-flow>=0.8.0->bert-for-tf2) (4.62.3)\n",
            "Building wheels for collected packages: bert-for-tf2, params-flow, py-params\n",
            "  Building wheel for bert-for-tf2 (setup.py) ... \u001b[?25l\u001b[?25hdone\n",
            "  Created wheel for bert-for-tf2: filename=bert_for_tf2-0.14.9-py3-none-any.whl size=30534 sha256=3922f9c23cd552ec22e68d964b1697e951646c38607852eb438ed4d55f87cc34\n",
            "  Stored in directory: /root/.cache/pip/wheels/47/b6/e5/8c76ec779f54bc5c2f1b57d2200bb9c77616da83873e8acb53\n",
            "  Building wheel for params-flow (setup.py) ... \u001b[?25l\u001b[?25hdone\n",
            "  Created wheel for params-flow: filename=params_flow-0.8.2-py3-none-any.whl size=19473 sha256=996f1cd7ba12d13d0022c88726a05afe7050f2e4f2210033ef0681baa103f263\n",
            "  Stored in directory: /root/.cache/pip/wheels/0e/fc/d2/a44fff33af0f233d7def6e7de413006d57c10e10ad736fe8f5\n",
            "  Building wheel for py-params (setup.py) ... \u001b[?25l\u001b[?25hdone\n",
            "  Created wheel for py-params: filename=py_params-0.10.2-py3-none-any.whl size=7912 sha256=20184a19bae3aa4a4d1fb6563aeb19fc9da4492e7b9a34e4329869ef2b59d368\n",
            "  Stored in directory: /root/.cache/pip/wheels/e1/11/67/33cc51bbee127cb8fb2ba549cd29109b2f22da43ddf9969716\n",
            "Successfully built bert-for-tf2 params-flow py-params\n",
            "Installing collected packages: py-params, params-flow, bert-for-tf2\n",
            "Successfully installed bert-for-tf2-0.14.9 params-flow-0.8.2 py-params-0.10.2\n"
          ]
        }
      ]
    },
    {
      "cell_type": "code",
      "metadata": {
        "id": "Grf8a3h-W5xx"
      },
      "source": [
        "import bert\n",
        "\n",
        "vocab_file = labse_layer.resolved_object.vocab_file.asset_path.numpy()\n",
        "do_lower_case = labse_layer.resolved_object.do_lower_case.numpy()\n",
        "tokenizer = bert.bert_tokenization.FullTokenizer(vocab_file, do_lower_case)"
      ],
      "execution_count": 8,
      "outputs": []
    },
    {
      "cell_type": "code",
      "metadata": {
        "colab": {
          "base_uri": "https://localhost:8080/"
        },
        "id": "NDDxo3rOXDYA",
        "outputId": "9f28e215-1703-49cc-d957-798278b5ef9d"
      },
      "source": [
        "def create_input(input_strings, tokenizer, max_seq_length):\n",
        "\n",
        "  input_ids_all, input_mask_all, segment_ids_all = [], [], []\n",
        "  for input_string in input_strings:\n",
        "    # Tokenize input.\n",
        "    input_tokens = [\"[CLS]\"] + tokenizer.tokenize(input_string) + [\"[SEP]\"]\n",
        "    input_ids = tokenizer.convert_tokens_to_ids(input_tokens)\n",
        "    sequence_length = min(len(input_ids), max_seq_length)\n",
        "\n",
        "    # Padding or truncation.\n",
        "    if len(input_ids) >= max_seq_length:\n",
        "      input_ids = input_ids[:max_seq_length]\n",
        "    else:\n",
        "      input_ids = input_ids + [0] * (max_seq_length - len(input_ids))\n",
        "\n",
        "    input_mask = [1] * sequence_length + [0] * (max_seq_length - sequence_length)\n",
        "\n",
        "    input_ids_all.append(input_ids)\n",
        "    input_mask_all.append(input_mask)\n",
        "    segment_ids_all.append([0] * max_seq_length)\n",
        "\n",
        "  return np.array(input_ids_all), np.array(input_mask_all), np.array(segment_ids_all)\n",
        "\n",
        "def encode(input_text):\n",
        "  input_ids, input_mask, segment_ids = create_input(\n",
        "    input_text, tokenizer, max_seq_length)\n",
        "  return labse_model([input_ids, input_mask, segment_ids])\n",
        "\n",
        "english_sentences = [\"dog\", \"Puppies are nice.\", \"I enjoy taking long walks along the beach with my dog.\"]\n",
        "italian_sentences = [\"cane\", \"I cuccioli sono carini.\", \"Mi piace fare lunghe passeggiate lungo la spiaggia con il mio cane.\"]\n",
        "japanese_sentences = [\"犬\", \"子犬はいいです\", \"私は犬と一緒にビーチを散歩するのが好きです\"]\n",
        "\n",
        "english_embeddings = encode(english_sentences)\n",
        "italian_embeddings = encode(italian_sentences)\n",
        "japanese_embeddings = encode(japanese_sentences)\n",
        "\n",
        "# English-Italian similarity\n",
        "print (np.matmul(english_embeddings, np.transpose(italian_embeddings)))\n",
        "\n",
        "# English-Japanese similarity\n",
        "print (np.matmul(english_embeddings, np.transpose(japanese_embeddings)))\n",
        "\n",
        "# Italian-Japanese similarity\n",
        "print (np.matmul(italian_embeddings, np.transpose(japanese_embeddings)))"
      ],
      "execution_count": 9,
      "outputs": [
        {
          "output_type": "stream",
          "name": "stdout",
          "text": [
            "[[0.631929   0.3061978  0.4429748 ]\n",
            " [0.11652686 0.8596665  0.35940558]\n",
            " [0.14803982 0.32447964 0.954265  ]]\n",
            "[[0.9356719  0.5403067  0.46792307]\n",
            " [0.31804207 0.76222515 0.36085895]\n",
            " [0.36750704 0.42791533 0.81714535]]\n",
            "[[0.53437203 0.2501862  0.19974726]\n",
            " [0.30140823 0.71333206 0.40647542]\n",
            " [0.3850307  0.47767884 0.86742985]]\n"
          ]
        }
      ]
    },
    {
      "cell_type": "code",
      "metadata": {
        "colab": {
          "resources": {
            "http://localhost:8080/nbextensions/google.colab/files.js": {
              "data": "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",
              "ok": true,
              "headers": [
                [
                  "content-type",
                  "application/javascript"
                ]
              ],
              "status": 200,
              "status_text": ""
            }
          },
          "base_uri": "https://localhost:8080/",
          "height": 73
        },
        "id": "wioHyY5CXPi1",
        "outputId": "3b047a1b-8bec-470f-9215-c0591be9b879"
      },
      "source": [
        "from google.colab import files\n",
        "uploaded = files.upload()"
      ],
      "execution_count": 10,
      "outputs": [
        {
          "output_type": "display_data",
          "data": {
            "text/html": [
              "\n",
              "     <input type=\"file\" id=\"files-53c47cf9-d1f8-4f49-aa19-dbacff9411c3\" name=\"files[]\" multiple disabled\n",
              "        style=\"border:none\" />\n",
              "     <output id=\"result-53c47cf9-d1f8-4f49-aa19-dbacff9411c3\">\n",
              "      Upload widget is only available when the cell has been executed in the\n",
              "      current browser session. Please rerun this cell to enable.\n",
              "      </output>\n",
              "      <script src=\"/nbextensions/google.colab/files.js\"></script> "
            ],
            "text/plain": [
              "<IPython.core.display.HTML object>"
            ]
          },
          "metadata": {}
        },
        {
          "output_type": "stream",
          "name": "stdout",
          "text": [
            "Saving Multilingual_data.csv to Multilingual_data.csv\n"
          ]
        }
      ]
    },
    {
      "cell_type": "code",
      "metadata": {
        "colab": {
          "base_uri": "https://localhost:8080/",
          "height": 480
        },
        "id": "WTUzLbL4YyGW",
        "outputId": "094d81ae-0da6-499b-f0de-f9bae274350d"
      },
      "source": [
        "import io\n",
        "import pandas as pd\n",
        "df = pd.read_csv(io.StringIO(uploaded['Multilingual_data.csv'].decode('utf-8')))\n",
        "df"
      ],
      "execution_count": 11,
      "outputs": [
        {
          "output_type": "execute_result",
          "data": {
            "text/html": [
              "<div>\n",
              "<style scoped>\n",
              "    .dataframe tbody tr th:only-of-type {\n",
              "        vertical-align: middle;\n",
              "    }\n",
              "\n",
              "    .dataframe tbody tr th {\n",
              "        vertical-align: top;\n",
              "    }\n",
              "\n",
              "    .dataframe thead th {\n",
              "        text-align: right;\n",
              "    }\n",
              "</style>\n",
              "<table border=\"1\" class=\"dataframe\">\n",
              "  <thead>\n",
              "    <tr style=\"text-align: right;\">\n",
              "      <th></th>\n",
              "      <th>English</th>\n",
              "      <th>German</th>\n",
              "      <th>French</th>\n",
              "      <th>Spanish</th>\n",
              "    </tr>\n",
              "  </thead>\n",
              "  <tbody>\n",
              "    <tr>\n",
              "      <th>0</th>\n",
              "      <td>I have practiced piano every day for fifteen y...</td>\n",
              "      <td>Ich habe fÃ¼nfzehn Jahre lang jeden Tag Klavie...</td>\n",
              "      <td>Je pratique le piano tous les jours depuis qui...</td>\n",
              "      <td>He practicado el piano todos los dÃ­as durante...</td>\n",
              "    </tr>\n",
              "    <tr>\n",
              "      <th>1</th>\n",
              "      <td>What flower do you like best?</td>\n",
              "      <td>Welche Blume magst du am liebsten?</td>\n",
              "      <td>Quelle fleur prÃ©fÃ©rez-vous?</td>\n",
              "      <td>Â¿QuÃ© flor te gusta mÃ¡s?</td>\n",
              "    </tr>\n",
              "    <tr>\n",
              "      <th>2</th>\n",
              "      <td>Spend your time wisely and you'll always have ...</td>\n",
              "      <td>Verbringen Sie Ihre Zeit mit Bedacht und Sie w...</td>\n",
              "      <td>Passez votre temps Ã  bon escient et vous en a...</td>\n",
              "      <td>Pase su tiempo sabiamente y siempre tendrÃ¡ su...</td>\n",
              "    </tr>\n",
              "    <tr>\n",
              "      <th>3</th>\n",
              "      <td>If you act like a child, you will be treated a...</td>\n",
              "      <td>Wenn Sie sich wie ein Kind verhalten, werden S...</td>\n",
              "      <td>Si vous agissez comme un enfant, vous serez tr...</td>\n",
              "      <td>Si actÃºas como un niÃ±o, serÃ¡s tratado como ...</td>\n",
              "    </tr>\n",
              "    <tr>\n",
              "      <th>4</th>\n",
              "      <td>What do you think she is doing now?</td>\n",
              "      <td>Was glaubst du, macht sie jetzt?</td>\n",
              "      <td>Que pensez-vous qu'elle fait maintenant?</td>\n",
              "      <td>Â¿QuÃ© crees que estÃ¡ haciendo ella ahora?</td>\n",
              "    </tr>\n",
              "    <tr>\n",
              "      <th>5</th>\n",
              "      <td>I hope you finish for work on time.</td>\n",
              "      <td>Ich hoffe, Sie sind pÃ¼nktlich zur Arbeit fertig.</td>\n",
              "      <td>J'espÃ¨re que vous finirez Ã  temps pour le tr...</td>\n",
              "      <td>Espero que termines tu trabajo a tiempo.</td>\n",
              "    </tr>\n",
              "    <tr>\n",
              "      <th>6</th>\n",
              "      <td>Please keep your mouth closed while you eat yo...</td>\n",
              "      <td>Bitte halten Sie den Mund geschlossen, wÃ¤hren...</td>\n",
              "      <td>Veuillez garder la bouche fermÃ©e pendant que ...</td>\n",
              "      <td>Â¡Por favor, mantenga la boca cerrada mientras...</td>\n",
              "    </tr>\n",
              "    <tr>\n",
              "      <th>7</th>\n",
              "      <td>I suppose it's different when you think about ...</td>\n",
              "      <td>Ich nehme an, es ist anders, wenn man langfris...</td>\n",
              "      <td>Je suppose que c'est diffÃ©rent quand on y pen...</td>\n",
              "      <td>Supongo que es diferente cuando lo piensas a l...</td>\n",
              "    </tr>\n",
              "    <tr>\n",
              "      <th>8</th>\n",
              "      <td>A burglar broke into your house while you were...</td>\n",
              "      <td>Ein Einbrecher ist in Ihr Haus eingebrochen, a...</td>\n",
              "      <td>Un cambrioleur est entrÃ© par effraction dans ...</td>\n",
              "      <td>Un ladrÃ³n irrumpiÃ³ en su casa mientras estab...</td>\n",
              "    </tr>\n",
              "    <tr>\n",
              "      <th>9</th>\n",
              "      <td>I'm sorry to have kept you waiting.</td>\n",
              "      <td>Tut mir leid, dass ich dich habe warten lassen.</td>\n",
              "      <td>Je suis dÃ©solÃ© de vous avoir fait attendre.</td>\n",
              "      <td>Siento haberte hecho esperar.</td>\n",
              "    </tr>\n",
              "    <tr>\n",
              "      <th>10</th>\n",
              "      <td>What are you planning to do for the New Year v...</td>\n",
              "      <td>Was planen Sie fÃ¼r die Neujahrsferien zu tun?</td>\n",
              "      <td>Que comptez-vous faire pour les vacances du No...</td>\n",
              "      <td>Â¿QuÃ© planeas hacer para las vacaciones de AÃ...</td>\n",
              "    </tr>\n",
              "    <tr>\n",
              "      <th>11</th>\n",
              "      <td>Drinking too much is bad for the health.</td>\n",
              "      <td>Zu viel zu trinken ist schlecht fÃ¼r die Gesun...</td>\n",
              "      <td>Boire trop est mauvais pour la santÃ©.</td>\n",
              "      <td>Beber demasiado es malo para la salud.</td>\n",
              "    </tr>\n",
              "    <tr>\n",
              "      <th>12</th>\n",
              "      <td>The maid immediately cleaned the dishes from t...</td>\n",
              "      <td>Das DienstmÃ¤dchen rÃ¤umte sofort das Geschirr...</td>\n",
              "      <td>La femme de chambre a immÃ©diatement nettoyÃ© ...</td>\n",
              "      <td>La criada limpiÃ³ inmediatamente los platos de...</td>\n",
              "    </tr>\n",
              "    <tr>\n",
              "      <th>13</th>\n",
              "      <td>I'm sorry to disturb you, but there's a phone ...</td>\n",
              "      <td>Es tut mir leid, Sie zu stÃ¶ren, aber es gibt ...</td>\n",
              "      <td>Je suis dÃ©solÃ© de vous dÃ©ranger, mais il y ...</td>\n",
              "      <td>Lamento molestarlo, pero hay una llamada telef...</td>\n",
              "    </tr>\n",
              "  </tbody>\n",
              "</table>\n",
              "</div>"
            ],
            "text/plain": [
              "                                              English  ...                                            Spanish\n",
              "0   I have practiced piano every day for fifteen y...  ...  He practicado el piano todos los dÃ­as durante...\n",
              "1                       What flower do you like best?  ...                         Â¿QuÃ© flor te gusta mÃ¡s?\n",
              "2   Spend your time wisely and you'll always have ...  ...  Pase su tiempo sabiamente y siempre tendrÃ¡ su...\n",
              "3   If you act like a child, you will be treated a...  ...  Si actÃºas como un niÃ±o, serÃ¡s tratado como ...\n",
              "4                 What do you think she is doing now?  ...        Â¿QuÃ© crees que estÃ¡ haciendo ella ahora?\n",
              "5                 I hope you finish for work on time.  ...           Espero que termines tu trabajo a tiempo.\n",
              "6   Please keep your mouth closed while you eat yo...  ...  Â¡Por favor, mantenga la boca cerrada mientras...\n",
              "7   I suppose it's different when you think about ...  ...  Supongo que es diferente cuando lo piensas a l...\n",
              "8   A burglar broke into your house while you were...  ...  Un ladrÃ³n irrumpiÃ³ en su casa mientras estab...\n",
              "9                 I'm sorry to have kept you waiting.  ...                      Siento haberte hecho esperar.\n",
              "10  What are you planning to do for the New Year v...  ...  Â¿QuÃ© planeas hacer para las vacaciones de AÃ...\n",
              "11           Drinking too much is bad for the health.  ...             Beber demasiado es malo para la salud.\n",
              "12  The maid immediately cleaned the dishes from t...  ...  La criada limpiÃ³ inmediatamente los platos de...\n",
              "13  I'm sorry to disturb you, but there's a phone ...  ...  Lamento molestarlo, pero hay una llamada telef...\n",
              "\n",
              "[14 rows x 4 columns]"
            ]
          },
          "metadata": {},
          "execution_count": 11
        }
      ]
    },
    {
      "cell_type": "code",
      "metadata": {
        "id": "AoMzr2KIZBK4"
      },
      "source": [
        "en = encode(list(df['English'])) \n",
        "german = encode(list(df['German']))\n",
        "french = encode(list(df['French']))\n",
        "spanish = encode(list(df['Spanish']))\n"
      ],
      "execution_count": 12,
      "outputs": []
    },
    {
      "cell_type": "code",
      "metadata": {
        "colab": {
          "base_uri": "https://localhost:8080/"
        },
        "id": "Qvr-KX-FaOLi",
        "outputId": "62813784-5980-444f-c787-719e806f26ac"
      },
      "source": [
        "en.shape"
      ],
      "execution_count": 13,
      "outputs": [
        {
          "output_type": "execute_result",
          "data": {
            "text/plain": [
              "TensorShape([14, 768])"
            ]
          },
          "metadata": {},
          "execution_count": 13
        }
      ]
    },
    {
      "cell_type": "code",
      "metadata": {
        "colab": {
          "base_uri": "https://localhost:8080/"
        },
        "id": "FnlijBgTajIb",
        "outputId": "8bc244b1-4654-4504-cc4a-ee7b11e18ae6"
      },
      "source": [
        "german.shape"
      ],
      "execution_count": 14,
      "outputs": [
        {
          "output_type": "execute_result",
          "data": {
            "text/plain": [
              "TensorShape([14, 768])"
            ]
          },
          "metadata": {},
          "execution_count": 14
        }
      ]
    },
    {
      "cell_type": "code",
      "metadata": {
        "colab": {
          "base_uri": "https://localhost:8080/"
        },
        "id": "QQCEvbpkampZ",
        "outputId": "805f2803-4896-4db4-ff02-be49696c5e21"
      },
      "source": [
        "french.shape"
      ],
      "execution_count": 15,
      "outputs": [
        {
          "output_type": "execute_result",
          "data": {
            "text/plain": [
              "TensorShape([14, 768])"
            ]
          },
          "metadata": {},
          "execution_count": 15
        }
      ]
    },
    {
      "cell_type": "code",
      "metadata": {
        "colab": {
          "base_uri": "https://localhost:8080/"
        },
        "id": "PoiGGZMgaopK",
        "outputId": "5866b334-98b1-4f5b-ba43-5368a115f101"
      },
      "source": [
        "spanish.shape"
      ],
      "execution_count": 16,
      "outputs": [
        {
          "output_type": "execute_result",
          "data": {
            "text/plain": [
              "TensorShape([14, 768])"
            ]
          },
          "metadata": {},
          "execution_count": 16
        }
      ]
    },
    {
      "cell_type": "code",
      "metadata": {
        "id": "xjqHc_7mapxq"
      },
      "source": [
        "from sklearn.decomposition import PCA\n",
        "def lists_to_ARRAY(a,b,c,d): \n",
        "    a_stack = np.stack(a)\n",
        "    b_stack = np.stack(b)\n",
        "    c_stack = np.stack(c)\n",
        "    d_stack = np.stack(d)\n",
        "    ARRAY = np.concatenate((a_stack,b_stack,c_stack,d_stack),axis=0)\n",
        "    pca = PCA(n_components=2)\n",
        "    pca_out = pca.fit_transform(ARRAY)\n",
        "    return(pca_out)"
      ],
      "execution_count": 17,
      "outputs": []
    },
    {
      "cell_type": "code",
      "metadata": {
        "id": "Vh9Dcof6bFyl"
      },
      "source": [
        "sent_ARRAY = lists_to_ARRAY(en,german,french,spanish)"
      ],
      "execution_count": 18,
      "outputs": []
    },
    {
      "cell_type": "code",
      "metadata": {
        "colab": {
          "base_uri": "https://localhost:8080/"
        },
        "id": "czl9aTajbKro",
        "outputId": "9e582837-d10f-4545-8348-be301478b4cb"
      },
      "source": [
        "sent_ARRAY.shape"
      ],
      "execution_count": 19,
      "outputs": [
        {
          "output_type": "execute_result",
          "data": {
            "text/plain": [
              "(56, 2)"
            ]
          },
          "metadata": {},
          "execution_count": 19
        }
      ]
    },
    {
      "cell_type": "code",
      "metadata": {
        "colab": {
          "base_uri": "https://localhost:8080/",
          "height": 295
        },
        "id": "VYJau50JbjG7",
        "outputId": "1c0f45ca-7e25-4818-9bfa-4a7921b59662"
      },
      "source": [
        "import matplotlib.pyplot as plt\n",
        "plt.scatter(sent_ARRAY[:14,0],sent_ARRAY[:14,1],) \n",
        "plt.scatter(sent_ARRAY[14:28,0],sent_ARRAY[14:28,1])\n",
        "plt.scatter(sent_ARRAY[28:42,0],sent_ARRAY[28:42,1])\n",
        "plt.scatter(sent_ARRAY[42:56,0],sent_ARRAY[42:56,1])\n",
        "plt.legend(['English','German','French','Spanish'])\n",
        "plt.title('PCA plots for LaBSE')\n",
        "plt.xlabel('X')\n",
        "plt.ylabel('Y');"
      ],
      "execution_count": 20,
      "outputs": [
        {
          "output_type": "display_data",
          "data": {
            "image/png": "[encoded data removed]",
            "text/plain": [
              "<Figure size 432x288 with 1 Axes>"
            ]
          },
          "metadata": {
            "needs_background": "light"
          }
        }
      ]
    },
    {
      "cell_type": "code",
      "metadata": {
        "id": "9ZX8LDelHzrv"
      },
      "source": [
        "eval_sent1 = [['Hi my name is Uday'], #en\n",
        "             ['Hola mi nombre es uday'], #es \n",
        "             ['Hallo, mein Name ist uday'],#German\n",
        "            ['انا اسمي عدي']] #Arabic\n",
        "\n",
        "eval_sent2 = [['movie was okish but actors were great'], #en\n",
        "             ['la película estaba bien pero los actores eran geniales'], #es \n",
        "             ['Film war okisch, aber die Schauspieler waren großartig'],#German\n",
        "            ['الفيلم كان طيب لكن الممثلين كانوا رائعين']] #Arabic\n",
        "\n",
        "eval_sent3 = [['Is there a way I can return the product?'], #en\n",
        "             ['Hay alguna forma de devolver el producto?'], #es \n",
        "             ['Kann ich das Produkt zurückgeben?'],#German\n",
        "            ['هل هناك طريقة يمكنني إرجاع المنتج؟']] #Arabic"
      ],
      "execution_count": 21,
      "outputs": []
    },
    {
      "cell_type": "code",
      "metadata": {
        "id": "vGHTe6foH3YQ"
      },
      "source": [
        "from itertools import combinations \n",
        "from sklearn.metrics.pairwise import cosine_similarity\n",
        "def evaluate_embeddings(eval_sent):  #Takes a list of embeddings\n",
        "    \n",
        "    a = encode(eval_sent[0])\n",
        "    b = encode(eval_sent[1])\n",
        "    c = encode(eval_sent[2])\n",
        "    d = encode(eval_sent[3])\n",
        "    \n",
        "    sent = [a,b,c,d]\n",
        "    \n",
        "    \n",
        "    comb = combinations(sent, 2)\n",
        "    similarities = []\n",
        "    for i in list(comb): \n",
        "         similarities.extend(cosine_similarity(i[0],i[1])[0])\n",
        "            \n",
        "    return(similarities)"
      ],
      "execution_count": 22,
      "outputs": []
    },
    {
      "cell_type": "code",
      "metadata": {
        "colab": {
          "base_uri": "https://localhost:8080/"
        },
        "id": "LAsozAk3IARW",
        "outputId": "9284649e-b04a-44cf-c1d2-d139ef2d9d55"
      },
      "source": [
        "evaluate_embeddings(eval_sent1)\n"
      ],
      "execution_count": 23,
      "outputs": [
        {
          "output_type": "execute_result",
          "data": {
            "text/plain": [
              "[0.90766597, 0.90984577, 0.78244746, 0.9660926, 0.73263973, 0.755973]"
            ]
          },
          "metadata": {},
          "execution_count": 23
        }
      ]
    },
    {
      "cell_type": "code",
      "metadata": {
        "id": "WG3mqdaqLm6n"
      },
      "source": [
        "LaBSE_1 = evaluate_embeddings(eval_sent1)\n",
        "LaBSE_2 = evaluate_embeddings(eval_sent2)\n",
        "LaBSE_3 = evaluate_embeddings(eval_sent3)\n"
      ],
      "execution_count": 24,
      "outputs": []
    },
    {
      "cell_type": "code",
      "metadata": {
        "colab": {
          "base_uri": "https://localhost:8080/",
          "height": 482
        },
        "id": "3fHzYObZL1YK",
        "outputId": "06097149-a3c2-4839-ff6e-f5ee7342bffd"
      },
      "source": [
        "comb = combinations(['a','b','c','d'], 2)\n",
        "import matplotlib.pyplot as plt\n",
        "plt.plot(LaBSE_1,linestyle='dashdot')\n",
        "plt.plot(LaBSE_2,linestyle='dashdot')\n",
        "plt.plot(LaBSE_3,linestyle='dashdot')\n",
        "plt.legend(['LaBSE1','LaBSE2','LaBSE3'])\n",
        "plt.title('LaBSE')\n",
        "plt.xticks(np.arange(0,6),comb)"
      ],
      "execution_count": 25,
      "outputs": [
        {
          "output_type": "execute_result",
          "data": {
            "text/plain": [
              "([<matplotlib.axis.XTick at 0x7fb14e130ed0>,\n",
              "  <matplotlib.axis.XTick at 0x7fb14e130c90>,\n",
              "  <matplotlib.axis.XTick at 0x7fb14e130b50>,\n",
              "  <matplotlib.axis.XTick at 0x7fb14e0eaed0>,\n",
              "  <matplotlib.axis.XTick at 0x7fb14e0ea510>,\n",
              "  <matplotlib.axis.XTick at 0x7fb14e0f5210>],\n",
              " [Text(0, 0, \"('a', 'b')\"),\n",
              "  Text(0, 0, \"('a', 'c')\"),\n",
              "  Text(0, 0, \"('a', 'd')\"),\n",
              "  Text(0, 0, \"('b', 'c')\"),\n",
              "  Text(0, 0, \"('b', 'd')\"),\n",
              "  Text(0, 0, \"('c', 'd')\")])"
            ]
          },
          "metadata": {},
          "execution_count": 25
        },
        {
          "output_type": "display_data",
          "data": {
            "image/png": "[encoded data removed]",
            "text/plain": [
              "<Figure size 432x288 with 1 Axes>"
            ]
          },
          "metadata": {
            "needs_background": "light"
          }
        }
      ]
    },
    {
      "cell_type": "code",
      "metadata": {
        "id": "oOwA2JhIIVoZ"
      },
      "source": [
        "en = [['Hi my name is Uday'], #en\n",
        "              ['movie was okish but actors were great'],\n",
        "              ['Is there a way I can return the product?']]\n",
        "\n",
        "es = [['Hola mi nombre es Uday'], #es\n",
        "             ['la película estaba bien pero los actores eran geniales'],\n",
        "              ['Hay alguna forma de devolver el producto?']]\n",
        "\n",
        "ger = [['Hallo, mein Name ist Uday'],\n",
        "              ['Film war okisch, aber die Schauspieler waren großartig'],\n",
        "              ['Kann ich das Produkt zurückgeben?']]\n",
        "arab = [['انا اسمي عدي'],\n",
        "              ['الفيلم كان طيب لكن الممثلين كانوا رائعين'],\n",
        "              ['هل هناك طريقة يمكنني إرجاع المنتج؟']]"
      ],
      "execution_count": 26,
      "outputs": []
    },
    {
      "cell_type": "code",
      "metadata": {
        "id": "eHI4Qd2gIlvo"
      },
      "source": [
        "from itertools import combinations \n",
        "from sklearn.metrics.pairwise import cosine_similarity\n",
        "def evaluate_embeddings(eval_sent):  #Takes a list of embeddings\n",
        "    \n",
        "    a = encode(eval_sent[0])\n",
        "    b = encode(eval_sent[1])\n",
        "    c = encode(eval_sent[2])\n",
        "    \n",
        "    \n",
        "    sent = [a,b,c]\n",
        "    \n",
        "    \n",
        "    comb = combinations(sent, 2)\n",
        "    similarities = []\n",
        "    for i in list(comb): \n",
        "         similarities.extend(cosine_similarity(i[0],i[1])[0])\n",
        "            \n",
        "    return(similarities)"
      ],
      "execution_count": 27,
      "outputs": []
    },
    {
      "cell_type": "code",
      "metadata": {
        "id": "IVufDnq9I1VI"
      },
      "source": [
        "LaBSE_en = evaluate_embeddings(en)\n",
        "LaBSE_es = evaluate_embeddings(es)\n",
        "LaBSE_ger = evaluate_embeddings(ger)\n",
        "LaBSE_arab = evaluate_embeddings(arab)"
      ],
      "execution_count": 28,
      "outputs": []
    },
    {
      "cell_type": "code",
      "metadata": {
        "colab": {
          "base_uri": "https://localhost:8080/",
          "height": 298
        },
        "id": "oXI9QfmaPfmO",
        "outputId": "a99d0142-7654-4078-d672-d2b93fe94943"
      },
      "source": [
        "comb = combinations(['a','b','c'],2)\n",
        "plt.plot(LaBSE_en)\n",
        "plt.plot(LaBSE_es)\n",
        "plt.plot(LaBSE_ger)\n",
        "plt.plot(LaBSE_arab)\n",
        "# plt.xlabel('Different sentence combinations')\n",
        "plt.ylabel('Cosine Similarities')\n",
        "plt.xticks(np.arange(0,3),comb)\n",
        "plt.title('LaBSE-embeddings')\n",
        "plt.legend(['en','es','german','arab'])"
      ],
      "execution_count": 29,
      "outputs": [
        {
          "output_type": "execute_result",
          "data": {
            "text/plain": [
              "<matplotlib.legend.Legend at 0x7fb14e0bb810>"
            ]
          },
          "metadata": {},
          "execution_count": 29
        },
        {
          "output_type": "display_data",
          "data": {
            "image/png": "[encoded data removed]",
            "text/plain": [
              "<Figure size 432x288 with 1 Axes>"
            ]
          },
          "metadata": {
            "needs_background": "light"
          }
        }
      ]
    },
    {
      "cell_type": "code",
      "metadata": {
        "id": "oO_fAYZWQH00"
      },
      "source": [
        ""
      ],
      "execution_count": 29,
      "outputs": []
    }
  ]
}